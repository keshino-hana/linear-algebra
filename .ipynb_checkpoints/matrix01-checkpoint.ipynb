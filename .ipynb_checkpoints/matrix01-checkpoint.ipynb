{
 "cells": [
  {
   "cell_type": "code",
   "execution_count": 58,
   "metadata": {
    "collapsed": true
   },
   "outputs": [],
   "source": [
    "import matplotlib.pyplot as plt\n",
    "import copy"
   ]
  },
  {
   "cell_type": "code",
   "execution_count": 92,
   "metadata": {
    "collapsed": true
   },
   "outputs": [],
   "source": [
    "class BasicCalculationOfMatrix:\n",
    "    \n",
    "    def __init__(self, matrix):\n",
    "        self.value = matrix\n",
    "        self.shape = (len(matrix), len(matrix[0]))\n",
    "        self.num_raw = self.shape[0]\n",
    "        self.num_col = self.shape[1]\n",
    "        \n",
    "    def _zeromatrix(self, num_raw, num_col):\n",
    "        zeromat = BasicCalculationOfMatrix([[0 for col in range(num_col)] for raws in range(num_raw)])\n",
    "        return zeromat\n",
    "    \n",
    "    def show(self):\n",
    "        for col in range(self.num_col):\n",
    "            print('\\tC{0}'.format(col), end='')\n",
    "        print('')\n",
    "        for i in range(self.num_raw):\n",
    "            print('R{0}\\t'.format(i), end='')\n",
    "            for j in range(self.num_col):\n",
    "                print(self.value[i][j], end='\\t')\n",
    "            print('')\n",
    "        print('')\n",
    "\n",
    "    def scalar_mul(self, x):\n",
    "        result = self._zeromatrix(self.num_raw, self.num_col)\n",
    "        for i in range(result.num_raw):\n",
    "            for j in range(result.num_col):\n",
    "                result.value[i][j] = x * self.value[i][j]\n",
    "        return result\n",
    "\n",
    "    def add(self, M):\n",
    "        if M.num_raw != self.num_raw or M.num_col != self.num_col:\n",
    "            print('wrong matrix size')\n",
    "            return 0\n",
    "        result = self._zeromatrix(self.num_raw, self.num_col)\n",
    "        for i in range(result.num_raw):\n",
    "            for j in range(result.num_col):\n",
    "                result.value[i][j] = self.value[i][j] + M.value[i][j]\n",
    "        return result\n",
    "\n",
    "    def mul(self, M):\n",
    "        if M.size[0] != self.num_col:\n",
    "            print('wrong matrix size')\n",
    "            return 0\n",
    "        result = self._zeromatrix(self.num_raw, M.num_col)\n",
    "        for i in range(result.num_raw):\n",
    "            for j in range(result.num_col):\n",
    "                for k in range(self.num_col):\n",
    "                    result.value[i][j] += self.value[i][k] * M.value[k][j]\n",
    "        return result\n",
    "\n",
    "    def T(self):\n",
    "        result = self._zeromatrix(self.num_col, self.num_raw)\n",
    "        for i in range(result.num_raw):\n",
    "            for j in range(result.num_col):\n",
    "                result.value[i][j] = self.value[j][i]\n",
    "        return result\n",
    "    \n",
    "    def P_lefttrans(self, i1, i2):\n",
    "        result = self._zeromatrix(self.num_raw, self.num_col)\n",
    "        for i in range(self.num_raw):\n",
    "            if i == i1:\n",
    "                result.value[i] = self.value[i2]\n",
    "            elif i == i2:\n",
    "                result.value[i] = self.value[i1]\n",
    "            else:\n",
    "                result.value[i] = self.value[i]\n",
    "        return result\n",
    "    \n",
    "    def Q_lefttrans(self, raw, x):\n",
    "        result = self._zeromatrix(self.num_raw, self.num_col)\n",
    "        for i in range(result.num_raw):\n",
    "            if i == raw:\n",
    "                result.value[i] = [value*x for value in self.value[i]]\n",
    "            else:\n",
    "                result.value[i] = self.value[i]\n",
    "        return result\n",
    "    \n",
    "    def R_lefttrans(self, raw1, raw2, x):\n",
    "        result = copy.deepcopy(self)\n",
    "        for j in range(result.num_col):\n",
    "            result.value[raw1][j] += result.value[raw2][j] * x\n",
    "        return result\n",
    "    \n",
    "    def submat(self, raws, cols):\n",
    "        result = self._zeromatrix(raws[1]-raws[0]+1, cols[1]-cols[0]+1)\n",
    "        for i in range(result.num_raw):\n",
    "            for j in range(result.num_col):\n",
    "                result.value[i][j] = self.value[i+raws[0]][j+cols[0]]\n",
    "        return result"
   ]
  },
  {
   "cell_type": "code",
   "execution_count": 96,
   "metadata": {},
   "outputs": [],
   "source": [
    "class Matrix(BasicCalculationOfMatrix):\n",
    "    \n",
    "    def __init__(self, matrix):\n",
    "        super().__init__(matrix)\n",
    "        self.det = self.det()\n",
    "        self.rank = self.rank()\n",
    "    \n",
    "    def upper_trimat(self):\n",
    "        result = copy.deepcopy(self)\n",
    "        for n in range(result.num_col):\n",
    "            for i in range(result.num_raw-n):\n",
    "                if result.value[n][n] != 0:\n",
    "                    break\n",
    "                else:\n",
    "                    result.P_lefttrans(n, i+n)\n",
    "            for i in range(result.num_raw-1-n):\n",
    "                temp = result.value[i+n+1][n] / result.value[n][n]\n",
    "                for j in range(result.num_col):\n",
    "                    result.value[i+n+1][j] -= result.value[n][j] * temp\n",
    "        return result\n",
    "    \n",
    "    def det(self):\n",
    "        temp = self.upper_trimat()\n",
    "        det = 1\n",
    "        for n in range(temp.num_col):\n",
    "            det *= temp.value[n][n]\n",
    "        return det\n",
    "    \n",
    "    def rank(self):\n",
    "        temp = self.upper_trimat()\n",
    "        rank = 0\n",
    "        for n in range(temp.num_col):\n",
    "            if temp.value[n][n] == 0:\n",
    "                return rank\n",
    "            rank += 1\n",
    "        return rank"
   ]
  },
  {
   "cell_type": "code",
   "execution_count": 98,
   "metadata": {},
   "outputs": [
    {
     "name": "stdout",
     "output_type": "stream",
     "text": [
      "\tC0\tC1\tC2\n",
      "R0\t1.0\t2.0\t7.0\t\n",
      "R1\t5.0\t9.0\t0.0\t\n",
      "R2\t3.0\t4.0\t6.0\t\n",
      "\n",
      "\tC0\tC1\tC2\n",
      "R0\t1.0\t2.0\t7.0\t\n",
      "R1\t0.0\t-1.0\t-35.0\t\n",
      "R2\t0.0\t0.0\t55.0\t\n",
      "\n",
      "3\n"
     ]
    }
   ],
   "source": [
    "A = Matrix([[1., 2., 7.], [5., 9., 0.], [3., 4., 6.]])\n",
    "A.show()\n",
    "A.upper_trimat().show()\n",
    "print(A.rank)"
   ]
  },
  {
   "cell_type": "code",
   "execution_count": 99,
   "metadata": {},
   "outputs": [
    {
     "name": "stdout",
     "output_type": "stream",
     "text": [
      "\tC0\tC1\tC2\n",
      "R0\t2\t1\t4\t\n",
      "R1\t0.0\t1.0\t2.0\t\n",
      "R2\t0.0\t0.0\t0.0\t\n",
      "\n",
      "3\n"
     ]
    }
   ],
   "source": [
    "B = Matrix([[2, 1, 4], [4, 3, 10], [2, 3, 8]])\n",
    "B.upper_trimat().show()\n",
    "print(A.rank)"
   ]
  }
 ],
 "metadata": {
  "kernelspec": {
   "display_name": "Python 3",
   "language": "python",
   "name": "python3"
  },
  "language_info": {
   "codemirror_mode": {
    "name": "ipython",
    "version": 3
   },
   "file_extension": ".py",
   "mimetype": "text/x-python",
   "name": "python",
   "nbconvert_exporter": "python",
   "pygments_lexer": "ipython3",
   "version": "3.6.3"
  }
 },
 "nbformat": 4,
 "nbformat_minor": 2
}
