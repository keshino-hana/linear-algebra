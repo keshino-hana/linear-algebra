{
 "cells": [
  {
   "cell_type": "code",
   "execution_count": 4,
   "metadata": {},
   "outputs": [],
   "source": [
    "import matplotlib.pyplot as plt"
   ]
  },
  {
   "cell_type": "code",
   "execution_count": 1,
   "metadata": {},
   "outputs": [],
   "source": [
    "class Matrix:\n",
    "    def __init__(self, matrix):\n",
    "        self.value = matrix\n",
    "        self.size = [len(matrix), len(matrix[0])]\n",
    "    \n",
    "    def show(self):\n",
    "        for col in range(self.size[1]):\n",
    "            print('\\tC{0}'.format(col), end='')\n",
    "        print('')\n",
    "        for raw in range(self.size[0]):\n",
    "            print('R{0}\\t'.format(raw), end='')\n",
    "            for col in range(self.size[1]):\n",
    "                print(self.value[raw][col], end='\\t')\n",
    "            print('')\n",
    "        print('')\n",
    "\n",
    "    def scalar_mul(self, x):\n",
    "        result = Matrix([[0 for col in range(self.size[1])] for raw in range(self.size[0])])\n",
    "        for i in range(result.size[0]):\n",
    "            for j in range(result.size[1]):\n",
    "                result.value[i][j] = x * self.value[i][j]\n",
    "        return result\n",
    "\n",
    "    def add(self, M):\n",
    "        result = Matrix([[0 for col in range(self.size[1])] for raw in range(self.size[0])])\n",
    "        for i in range(result.size[0]):\n",
    "            for j in range(result.size[1]):\n",
    "                result.value[i][j] = self.value[i][j] + M.value[i][j]\n",
    "        return result\n",
    "\n",
    "    def mul(self, M):\n",
    "        if M.size[0] != self.size[1]:\n",
    "            print('wrong matrix size')\n",
    "            return 0\n",
    "        result = Matrix([[0 for col in range(M.size[1])] for raw in range(self.size[0])])\n",
    "        for i in range(result.size[0]):\n",
    "            for j in range(result.size[1]):\n",
    "                for k in range(self.size[1]):\n",
    "                    result.value[i][j] += self.value[i][k] * M.value[k][j]\n",
    "        return result\n",
    "    def T(self):\n",
    "        result = Matrix([[0 for col in range(self.size[0])] for raw in range(self.size[1])])\n",
    "        for i in range(result.size[0]):\n",
    "            for j in range(result.size[1]):\n",
    "                result.value[i][j] = self.value[j][i]\n",
    "        return result"
   ]
  }
 ],
 "metadata": {
  "kernelspec": {
   "display_name": "Python 3",
   "language": "python",
   "name": "python3"
  },
  "language_info": {
   "codemirror_mode": {
    "name": "ipython",
    "version": 3
   },
   "file_extension": ".py",
   "mimetype": "text/x-python",
   "name": "python",
   "nbconvert_exporter": "python",
   "pygments_lexer": "ipython3",
   "version": "3.6.3"
  }
 },
 "nbformat": 4,
 "nbformat_minor": 2
}
