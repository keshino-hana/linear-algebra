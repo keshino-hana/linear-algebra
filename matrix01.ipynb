{
 "cells": [
  {
   "cell_type": "code",
   "execution_count": 1,
   "metadata": {
    "collapsed": true
   },
   "outputs": [],
   "source": [
    "import matplotlib.pyplot as plt"
   ]
  },
  {
   "cell_type": "code",
   "execution_count": 12,
   "metadata": {
    "collapsed": true
   },
   "outputs": [],
   "source": [
    "class Matrix:\n",
    "    def __init__(self, matrix):\n",
    "        self.value = matrix\n",
    "        self.shape = (len(matrix), len(matrix[0]))\n",
    "        self.rawsize = self.shape[0]\n",
    "        self.colsize = self.shape[1]\n",
    "    \n",
    "    def show(self):\n",
    "        for col in range(self.colsize):\n",
    "            print('\\tC{0}'.format(col), end='')\n",
    "        print('')\n",
    "        for i in range(self.rawsize):\n",
    "            print('R{0}\\t'.format(i), end='')\n",
    "            for j in range(self.rawsize):\n",
    "                print(self.value[i][j], end='\\t')\n",
    "            print('')\n",
    "        print('')\n",
    "\n",
    "    def scalar_mul(self, x):\n",
    "        result = Matrix([[0 for col in range(self.colsize)] for raw in range(self.rawsize)])\n",
    "        for i in range(result.rawsize):\n",
    "            for j in range(result.colsize):\n",
    "                result.value[i][j] = x * self.value[i][j]\n",
    "        return result\n",
    "\n",
    "    def add(self, M):\n",
    "        if M.rawsize != self.rawsize or M.colsize != self.colsize:\n",
    "            print('wrong matrix size')\n",
    "            return 0\n",
    "        result = Matrix([[0 for col in range(self.colsize)] for raw in range(self.rawsize)])\n",
    "        for i in range(result.rawsize):\n",
    "            for j in range(result.colsize):\n",
    "                result.value[i][j] = self.value[i][j] + M.value[i][j]\n",
    "        return result\n",
    "\n",
    "    def mul(self, M):\n",
    "        if M.size[0] != self.colsize:\n",
    "            print('wrong matrix size')\n",
    "            return 0\n",
    "        result = Matrix([[0 for col in range(M.colsize)] for raw in range(self.rawsize)])\n",
    "        for i in range(result.rawsize):\n",
    "            for j in range(result.colsize):\n",
    "                for k in range(self.colsize):\n",
    "                    result.value[i][j] += self.value[i][k] * M.value[k][j]\n",
    "        return result\n",
    "\n",
    "    def T(self):\n",
    "        result = Matrix([[0 for col in range(self.rawsize)] for raw in range(self.colsize)])\n",
    "        for i in range(result.rawsize):\n",
    "            for j in range(result.colsize):\n",
    "                result.value[i][j] = self.value[j][i]\n",
    "        return result"
   ]
  },
  {
   "cell_type": "code",
   "execution_count": 21,
   "metadata": {},
   "outputs": [
    {
     "name": "stdout",
     "output_type": "stream",
     "text": [
      "\tC0\tC1\n",
      "R0\t1\t2\t\n",
      "R1\t5\t2\t\n",
      "\n",
      "\tC0\tC1\n",
      "R0\t3\t5\t\n",
      "R1\t6\t4\t\n",
      "\n"
     ]
    }
   ],
   "source": [
    "A = Matrix([[1, 2], [5, 2]])\n",
    "A.show()\n",
    "B = Matrix([[2, 3], [1, 2]])\n",
    "A.add(B).show()"
   ]
  }
 ],
 "metadata": {
  "kernelspec": {
   "display_name": "Python 3",
   "language": "python",
   "name": "python3"
  },
  "language_info": {
   "codemirror_mode": {
    "name": "ipython",
    "version": 3
   },
   "file_extension": ".py",
   "mimetype": "text/x-python",
   "name": "python",
   "nbconvert_exporter": "python",
   "pygments_lexer": "ipython3",
   "version": "3.6.3"
  }
 },
 "nbformat": 4,
 "nbformat_minor": 2
}
